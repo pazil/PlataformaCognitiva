{
  "cells": [
    {
      "cell_type": "code",
      "execution_count": null,
      "metadata": {
        "id": "8cY6wdvc-LIM"
      },
      "outputs": [],
      "source": [
        "import requests #biblioteca http"
      ]
    },
    {
      "cell_type": "code",
      "execution_count": null,
      "metadata": {
        "id": "rWDGowhK4JXV"
      },
      "outputs": [],
      "source": [
        "#Parâmetros\n",
        "camera = \"RHAZ\"\n",
        "page = 1\n",
        "api_key = \"4xNd6ZqODLFmapRoDKfUFvkyY4eQXjqYKdlubub9\"\n",
        "rover_camera = \"Curiosity\"\n",
        "earth_date = \"\"\n",
        "\n",
        "parametro1 = { #dicionário com os paramentros\n",
        "    'api_key' : api_key\n",
        "}\n",
        "\n",
        "#Dados da missão\n",
        "resposta = requests.get(f\"https://api.nasa.gov/mars-photos/api/v1/manifests/curiosity\", params=parametro1)\n",
        "#print(resposta)\n",
        "\n",
        "dados = resposta.json()#recebe os dados em format json e converte em dicionario\n",
        "resposta.json()\n",
        "\n",
        "#pega os dados da biblioteca 'dados' e armazena em variaveis\n",
        "landing_date = dados['photo_manifest']['landing_date']\n",
        "name = dados['photo_manifest']['name']\n",
        "status = dados['photo_manifest']['status']\n",
        "launch_date = dados['photo_manifest']['launch_date']\n",
        "max_sol = dados['photo_manifest']['max_sol']\n",
        "max_date = dados['photo_manifest']['max_date']\n",
        "total_photos = dados['photo_manifest']['total_photos']"
      ]
    },
    {
      "cell_type": "code",
      "execution_count": null,
      "metadata": {
        "colab": {
          "base_uri": "https://localhost:8080/"
        },
        "id": "HQgRnuRpujy-",
        "outputId": "e431c018-fb01-4fef-ca94-edc953ddac6c"
      },
      "outputs": [
        {
          "name": "stdout",
          "output_type": "stream",
          "text": [
            "\n",
            "\t  Checkpoint nº1\n",
            "\tRover 'Curiosity'\n",
            "\n",
            " 1 - Checar Manifesto da Missão\n",
            " 2 - Acessar Câmera de Evitação de Risco Traseiro\n",
            "-1 - Sair\n",
            "1\n",
            "\n",
            "Mission Manifest\n",
            "Nome do Rover: Curiosity\n",
            "Status: active\n",
            "Data de lançamento: 2011-11-26\n",
            "Data de pouso: 2012-08-06\n",
            "O sol marciano mais recente do qual existem fotos: 4102\n",
            "Data da última foto: 2024-02-19\n",
            "Total de fotos: 695670\n",
            "\n",
            "\n",
            "\t  Checkpoint nº1\n",
            "\tRover 'Curiosity'\n",
            "\n",
            " 1 - Checar Manifesto da Missão\n",
            " 2 - Acessar Câmera de Evitação de Risco Traseiro\n",
            "-1 - Sair\n",
            "2\n",
            "Insira uma data entre 2012-08-06 e 2024-02-19 para buscar a foto\n",
            "Dia: 25\n",
            "Mês: 9\n",
            "Ano: 2022\n",
            "\n",
            "A lista de fotos está vazia, busque outra data\n",
            "\n",
            "Insira uma data entre 2012-08-06 e 2024-02-19 para buscar a foto\n",
            "Dia: 25\n",
            "Mês: 9\n",
            "Ano: 2023\n",
            "https://mars.nasa.gov/msl-raw-images/proj/msl/redops/ods/surface/sol/03603/opgs/edr/rcam/RLB_717365738EDR_S0971632RHAZ00300M_.JPG\n",
            "https://mars.nasa.gov/msl-raw-images/proj/msl/redops/ods/surface/sol/03603/opgs/edr/rcam/RRB_717365738EDR_S0971632RHAZ00300M_.JPG\n",
            "\n",
            "\t  Checkpoint nº1\n",
            "\tRover 'Curiosity'\n",
            "\n",
            " 1 - Checar Manifesto da Missão\n",
            " 2 - Acessar Câmera de Evitação de Risco Traseiro\n",
            "-1 - Sair\n",
            "-1\n"
          ]
        }
      ],
      "source": [
        "\n",
        "\n",
        "#Menu\n",
        "\n",
        "menu = 0\n",
        "while menu >= 0:\n",
        "  print(\"\\n\\t  Checkpoint nº1\")\n",
        "  print(\"\\tRover 'Curiosity'\\n\")\n",
        "  print(\" 1 - Checar Manifesto da Missão\")\n",
        "  print(\" 2 - Acessar Câmera de Evitação de Risco Traseiro\")\n",
        "  print(\"-1 - Sair\")\n",
        "  menu = int(input())\n",
        "\n",
        "  if menu == 1:\n",
        "    #Imprime o Manifesto da Missão\n",
        "    print(\"\\nMission Manifest\")\n",
        "    print(f\"Nome do Rover: {dados['photo_manifest']['name']}\")\n",
        "    print(f\"Status: {status}\")\n",
        "    print(f\"Data de lançamento: {launch_date}\")\n",
        "    print(f\"Data de pouso: {landing_date}\")\n",
        "    print(f\"O sol marciano mais recente do qual existem fotos: {max_sol}\")\n",
        "    print(f\"Data da última foto: {max_date}\")\n",
        "    print(f\"Total de fotos: {total_photos}\\n\")\n",
        "\n",
        "  elif menu == 2:\n",
        "    #busca foto\n",
        "\n",
        "\n",
        "    parametro2 = { #dicionário com os paramentros\n",
        "    'earth_date' : earth_date,\n",
        "    'camera' : camera,\n",
        "    'page' : page,\n",
        "    'api_key' : api_key\n",
        "    }\n",
        "    #loop para validar status 200\n",
        "    while True:\n",
        "      print(f\"Insira uma data entre {landing_date} e {max_date} para buscar a foto\")\n",
        "      dia = int(input(\"Dia: \"))\n",
        "      mes = int(input(\"Mês: \"))\n",
        "      ano = int(input(\"Ano: \"))\n",
        "      resposta = requests.get(f\"https://api.nasa.gov/mars-photos/api/v1/rovers/curiosity/photos?\", params=parametro2)\n",
        "      parametro2['earth_date'] = f\"{ano}-{mes}-{dia}\"\n",
        "      #print(resposta) #checa resposta\n",
        "\n",
        "      if resposta.status_code in [400,500]:\n",
        "\n",
        "          while resposta.status_code in [400,500]:\n",
        "            print(f\"\\nData não encontrada, insira uma data entre {landing_date} e {max_date} para buscar a foto\")\n",
        "            dia = int(input(\"Dia: \"))\n",
        "            mes = int(input(\"Mês: \"))\n",
        "            ano = int(input(\"Ano: \"))\n",
        "            parametro2['earth_date'] = f\"{ano}-{mes}-{dia}\"\n",
        "            resposta = requests.get(f\"https://api.nasa.gov/mars-photos/api/v1/rovers/curiosity/photos?\", params=parametro2)\n",
        "            #print(resposta)#checa resposta\n",
        "\n",
        "      elif resposta.status_code == 200:\n",
        "        dados2 = resposta.json()\n",
        "        if 'photos' in dados2 and dados2['photos'] == []:\n",
        "          print(\"\\nA lista de fotos está vazia, busque outra data\\n\")\n",
        "\n",
        "        else:\n",
        "          break\n",
        "\n",
        "    for photo in dados2['photos']:\n",
        "        print(photo['img_src'])\n"
      ]
    }
  ],
  "metadata": {
    "colab": {
      "provenance": [],
      "toc_visible": true
    },
    "kernelspec": {
      "display_name": "Python 3",
      "name": "python3"
    },
    "language_info": {
      "name": "python"
    }
  },
  "nbformat": 4,
  "nbformat_minor": 0
}